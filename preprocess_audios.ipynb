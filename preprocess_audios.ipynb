{
 "cells": [
  {
   "cell_type": "code",
   "execution_count": 1,
   "metadata": {},
   "outputs": [],
   "source": [
    "import numpy as np\n",
    "import wave\n",
    "import librosa\n",
    "import scipy.io.wavfile\n",
    "from scipy.fftpack import dct\n",
    "from pydub import AudioSegment\n",
    "from pydub.silence import split_on_silence\n",
    "import matplotlib.pyplot as plt\n",
    "import madmom\n",
    "import scipy.signal\n",
    "import os\n",
    "from scipy.fftpack import fft, ifft,fftshift,fftfreq\n",
    "from scipy.signal import butter, lfilter, freqz\n",
    "\n",
    "\n",
    "\n",
    "intrusion_sounds=os.listdir(\"Dataset/1_intrusion\")\n",
    "\n",
    "\n"
   ]
  },
  {
   "cell_type": "code",
   "execution_count": 2,
   "metadata": {},
   "outputs": [],
   "source": [
    "#get the audio\n",
    "#convert it into 5 sec i.e. if short:pad   else trim\n",
    "audio_file_name=\"1.wav\"\n",
    "signal, sample_rate = librosa.load(audio_file_name, res_type='kaiser_fast')\n",
    "\n",
    "def resize_audio(signal,sample_rate,time=5):\n",
    "    \n",
    "    if((len(signal)/sample_rate) < time):\n",
    "        no_pads=time *sample_rate -len(signal)\n",
    "        pads=np.zeros(no_pads)\n",
    "        signal=np.append(signal,pads)\n",
    "        \n",
    "    else:\n",
    "        signal=signal[0:int(time*sample_rate)]\n",
    "    \n",
    "resize_audio(signal,sample_rate)   "
   ]
  },
  {
   "cell_type": "code",
   "execution_count": 3,
   "metadata": {},
   "outputs": [],
   "source": [
    "#Signal pre-emphasis\n",
    "#signal, sample_rate = librosa.load(audio_file_name, res_type='kaiser_fast')\n",
    "\n",
    "signal, sample_rate = madmom.audio.signal.load_wave_file(audio_file_name)\n",
    "def emphasize_signal(signal,pre_emphasis = 0.97):\n",
    "    return np.append(signal[0], signal[1:] - pre_emphasis * signal[:-1])\n",
    "\n",
    "signal=emphasize_signal(signal)"
   ]
  },
  {
   "cell_type": "markdown",
   "metadata": {},
   "source": [
    "Steps:-\n",
    "\n",
    "0)Resample,attenuate,normalize etc the signal to sample_rate=48000Hz\n",
    "\n",
    "1)Divide the audio into frames with han windows and \n",
    "\n",
    "2)then perform noise reduction ,\n",
    "\n",
    "3)then combine the signal again and\n",
    "\n",
    "4)divide it into sound chunks for further classification"
   ]
  },
  {
   "cell_type": "code",
   "execution_count": 4,
   "metadata": {},
   "outputs": [],
   "source": [
    "#signal=madmom.audio.signal.Signal(audio_file_name,48000)\n",
    "#Dont't run hangs the window   \n",
    "\n",
    "#signal = scipy.signal.resample(signal,8000)\n",
    "#print(len(signal)/sample_rate)\n"
   ]
  },
  {
   "cell_type": "code",
   "execution_count": 5,
   "metadata": {},
   "outputs": [],
   "source": [
    "\n",
    "#To split the signal into frames of 2048 samples length which overlap by 0 samples(for now only to do noise reduction)\n",
    "fs = madmom.audio.signal.FramedSignal(signal, frame_size=2048, hop_size=1)\n"
   ]
  },
  {
   "cell_type": "code",
   "execution_count": 6,
   "metadata": {},
   "outputs": [
    {
     "name": "stdout",
     "output_type": "stream",
     "text": [
      "signal_length:4105583  frame_length:2048  stride_length:1024\n",
      "no_strides:4010.0\n",
      "no_pads:657\n",
      "(657,)\n",
      "no_frames:4010.0\n",
      "(4106240,)\n"
     ]
    }
   ],
   "source": [
    "audio_file_name=\"1.wav\"\n",
    "signal, sample_rate = librosa.load(audio_file_name, res_type='kaiser_fast')\n",
    "emphasized_signal=emphasize_signal(signal)\n",
    "\n",
    "def create_frames(emphasized_signal,size=2048,sample_rate=48000):\n",
    "    #Framing the audio signal\n",
    "    frame_size=size/sample_rate #24ms                        128=sample_rate*time    thus time=128/sample_rate\n",
    "    frame_overlap=frame_size/2 #15ms overlap( ~50%)\n",
    "    frame_length=int(round(frame_size*sample_rate))\n",
    "    stride_length=int(round((frame_overlap)*sample_rate))\n",
    "    # Pad the emphasized_signal with zeros in end corresponding to frame size\n",
    "    signal_length=len(emphasized_signal)\n",
    "    print(\"signal_length:\"+str(signal_length)+\"  frame_length:\"+str(frame_length)+\"  stride_length:\"+str(stride_length))\n",
    "\n",
    "    no_strides=np.ceil((signal_length/stride_length))\n",
    "    print(\"no_strides:\"+str(no_strides))\n",
    "    no_pads=int(abs(signal_length-no_strides*stride_length))\n",
    "    print(\"no_pads:\"+str(no_pads))\n",
    "    z=np.zeros(no_pads)\n",
    "    print(np.shape(z))\n",
    "    emphasized_signal=np.append(emphasized_signal,z)\n",
    "    no_frames=int(len(emphasized_signal))/(stride_length)\n",
    "    print(\"no_frames:\"+str(no_frames))\n",
    "    print(np.shape(emphasized_signal))\n",
    "\n",
    "    frames=[]\n",
    "    counter=0\n",
    "    for i in range(0,len(signal)):\n",
    "        #frames[counter]=signal[i:(i+frame_length)]\n",
    "        frames.insert(counter, signal[i:(i+frame_length)])\n",
    "        i+=stride_length\n",
    "        counter+=1\n",
    "    \n",
    "    return frames\n",
    "\n",
    "frames=create_frames(emphasized_signal,2048,48000)"
   ]
  },
  {
   "cell_type": "code",
   "execution_count": 7,
   "metadata": {},
   "outputs": [
    {
     "data": {
      "text/plain": [
       "'\\ndef apply_low_pass_filter(frame,sample_rate=48000,cutoff=3300):\\n    y=butter_lowpass_filter(frame, cutoff, sample_rate, order=5)\\n    return y\\n\\ndef apply_high_pass_filter(frame,sample_rate=48000,cutoff=3300):\\n    y=butter_highpass_filter(frame, cutoff, sample_rate, order=5)\\n    return y\\n'"
      ]
     },
     "execution_count": 7,
     "metadata": {},
     "output_type": "execute_result"
    }
   ],
   "source": [
    "def butter_lowpass(cutoff, fs, order=5):\n",
    "    nyq = 0.5 * fs\n",
    "    normal_cutoff = cutoff / nyq\n",
    "    b, a = butter(order, normal_cutoff, btype='low', analog=False)\n",
    "    return b, a\n",
    "\n",
    "def butter_lowpass_filter(frame, cutoff, fs, order=5):\n",
    "    b, a = butter_lowpass(cutoff, fs, order=order)\n",
    "    y = lfilter(b, a, frame)\n",
    "    return y\n",
    "\n",
    "def butter_highpass(cutoff, fs, order=5):\n",
    "    nyq = 0.5 * fs\n",
    "    normal_cutoff = cutoff / nyq\n",
    "    b, a = butter(order, normal_cutoff, btype='high', analog=False)\n",
    "    return b, a\n",
    "\n",
    "def butter_highpass_filter(frame, cutoff, fs, order=5):\n",
    "    b, a = butter_highpass(cutoff, fs, order=order)\n",
    "    y = lfilter(b, a, frame)\n",
    "    return y\n",
    "\n",
    "\n",
    "\n",
    "'''\n",
    "def apply_low_pass_filter(frame,sample_rate=48000,cutoff=3300):\n",
    "    y=butter_lowpass_filter(frame, cutoff, sample_rate, order=5)\n",
    "    return y\n",
    "\n",
    "def apply_high_pass_filter(frame,sample_rate=48000,cutoff=3300):\n",
    "    y=butter_highpass_filter(frame, cutoff, sample_rate, order=5)\n",
    "    return y\n",
    "'''\n",
    "    "
   ]
  },
  {
   "cell_type": "code",
   "execution_count": null,
   "metadata": {},
   "outputs": [],
   "source": [
    "def remove_noise(frames,sample_rate=48000,low_cutoff=3000,high_cutoff=800):\n",
    "    denoised_frames=[]\n",
    "    for i in range(0,len(frames)):\n",
    "        #b,a=butter(5, normal_cutoff, btype='low', analog=False)\n",
    "        #fft=scipy.fftpack.fft(frames[i])\n",
    "        filtered_signal=butter_lowpass_filter(frames[i],low_cutoff,sample_rate,5)   #select frequencies below 3000Hz\n",
    "        filtered_signal=butter_highpass_filter(filtered_signal,high_cutoff,sample_rate,5) #select frequencies above 800Hz\n",
    "        frames[i]=filtered_signal\n",
    "        \n",
    "remove_noise(frames)        "
   ]
  },
  {
   "cell_type": "code",
   "execution_count": null,
   "metadata": {},
   "outputs": [],
   "source": []
  }
 ],
 "metadata": {
  "kernelspec": {
   "display_name": "Python 3",
   "language": "python",
   "name": "python3"
  },
  "language_info": {
   "codemirror_mode": {
    "name": "ipython",
    "version": 3
   },
   "file_extension": ".py",
   "mimetype": "text/x-python",
   "name": "python",
   "nbconvert_exporter": "python",
   "pygments_lexer": "ipython3",
   "version": "3.6.2rc1"
  }
 },
 "nbformat": 4,
 "nbformat_minor": 2
}
