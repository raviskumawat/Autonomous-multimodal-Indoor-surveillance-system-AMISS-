{
 "cells": [
  {
   "cell_type": "code",
   "execution_count": 1,
   "metadata": {},
   "outputs": [
    {
     "name": "stdout",
     "output_type": "stream",
     "text": [
      "Could not request results from Google Speech Recognition service; recognition request failed: Bad Gateway\n"
     ]
    }
   ],
   "source": [
    "import speech_recognition as sr\n",
    " \n",
    "AUDIO_FILE = (\"1.wav\")\n",
    " \n",
    "# use the audio file as the audio source\n",
    " \n",
    "r = sr.Recognizer()\n",
    " \n",
    "with sr.AudioFile(AUDIO_FILE) as source:\n",
    "    #reads the audio file. Here we use record instead of\n",
    "    #listen\n",
    "    audio = r.record(source)  \n",
    " \n",
    "try:\n",
    "    print(\"The audio file contains: \" + r.recognize_google(audio))\n",
    " \n",
    "except sr.UnknownValueError:\n",
    "    print(\"Google Speech Recognition could not understand audio\")\n",
    " \n",
    "except sr.RequestError as e:\n",
    "    print(\"Could not request results from Google Speech Recognition service; {0}\".format(e))"
   ]
  },
  {
   "cell_type": "code",
   "execution_count": null,
   "metadata": {},
   "outputs": [],
   "source": []
  }
 ],
 "metadata": {
  "kernelspec": {
   "display_name": "Python 3",
   "language": "python",
   "name": "python3"
  },
  "language_info": {
   "codemirror_mode": {
    "name": "ipython",
    "version": 3
   },
   "file_extension": ".py",
   "mimetype": "text/x-python",
   "name": "python",
   "nbconvert_exporter": "python",
   "pygments_lexer": "ipython3",
   "version": "3.6.2rc1"
  }
 },
 "nbformat": 4,
 "nbformat_minor": 2
}
