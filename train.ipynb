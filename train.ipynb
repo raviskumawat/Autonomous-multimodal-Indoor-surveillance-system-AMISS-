{
 "cells": [
  {
   "cell_type": "code",
   "execution_count": 8,
   "metadata": {},
   "outputs": [
    {
     "name": "stderr",
     "output_type": "stream",
     "text": [
      "WARNING:root:frame length (640) is greater than FFT size (512), frame will be truncated. Increase NFFT to avoid.\n"
     ]
    },
    {
     "name": "stdout",
     "output_type": "stream",
     "text": [
      "modeling completed for gender: 1.gmm\n"
     ]
    }
   ],
   "source": [
    "#train_models.py\n",
    "\n",
    "import os\n",
    "import _pickle as cPickle\n",
    "import numpy as np\n",
    "from scipy.io.wavfile import read\n",
    "from sklearn.mixture import GMM \n",
    "import python_speech_features as mfcc\n",
    "from sklearn import preprocessing\n",
    "import warnings\n",
    "warnings.filterwarnings(\"ignore\")\n",
    "\n",
    "def get_MFCC(sr,audio):\n",
    "    features = mfcc.mfcc(audio,sr, 0.020, 0.01, 15,appendEnergy = False)\n",
    "    features = preprocessing.scale(features)\n",
    "    return features\n",
    "\n",
    "#path to training data\n",
    "source   = \"\"\n",
    "#path to save trained model   \n",
    "dest     = \"\"         \n",
    "#files    = [os.path.join(source,f) for f in os.listdir(source) if \n",
    "#            f.endswith('.wav')] \n",
    "features = np.asarray(());\n",
    "\n",
    "files=['1.wav']\n",
    "\n",
    "for f in files:\n",
    "    sr,audio = read(f)\n",
    "    vector   = get_MFCC(sr,audio)\n",
    "    if features.size == 0:\n",
    "        features = vector\n",
    "    else:\n",
    "        features = np.vstack((features, vector))\n",
    "\n",
    "gmm = GMM(n_components = 8, n_iter = 200, covariance_type='diag',\n",
    "        n_init = 3)\n",
    "gmm.fit(features)\n",
    "picklefile = f.split(\".wav\")[0]+\".gmm\"\n",
    "\n",
    "# model saved as male.gmm\n",
    "cPickle.dump(gmm,open(dest + picklefile,'wb'))\n",
    "print ('modeling completed for gender:',picklefile)"
   ]
  },
  {
   "cell_type": "code",
   "execution_count": null,
   "metadata": {},
   "outputs": [],
   "source": []
  }
 ],
 "metadata": {
  "kernelspec": {
   "display_name": "Python 3",
   "language": "python",
   "name": "python3"
  },
  "language_info": {
   "codemirror_mode": {
    "name": "ipython",
    "version": 3
   },
   "file_extension": ".py",
   "mimetype": "text/x-python",
   "name": "python",
   "nbconvert_exporter": "python",
   "pygments_lexer": "ipython3",
   "version": "3.5.2"
  }
 },
 "nbformat": 4,
 "nbformat_minor": 2
}
