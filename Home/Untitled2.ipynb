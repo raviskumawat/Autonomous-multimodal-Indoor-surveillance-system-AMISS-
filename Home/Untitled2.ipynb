{
 "cells": [
  {
   "cell_type": "code",
   "execution_count": 4,
   "metadata": {},
   "outputs": [
    {
     "ename": "SyntaxError",
     "evalue": "'break' outside loop (<ipython-input-4-35492dd308be>, line 58)",
     "output_type": "error",
     "traceback": [
      "\u001b[0;36m  File \u001b[0;32m\"<ipython-input-4-35492dd308be>\"\u001b[0;36m, line \u001b[0;32m58\u001b[0m\n\u001b[0;31m    break\u001b[0m\n\u001b[0;31mSyntaxError\u001b[0m\u001b[0;31m:\u001b[0m 'break' outside loop\n"
     ]
    }
   ],
   "source": [
    "import socket\n",
    "#import play_video\n",
    "#import os\n",
    "import cv2\n",
    "    \n",
    "HOST = '0.0.0.0'\n",
    "PORT = 8880\n",
    "ADDR = (HOST,PORT)\n",
    "BUFSIZE = 4096\n",
    "\n",
    "\n",
    "def get_stream():\n",
    "    serv = socket.socket(socket.AF_INET, socket.SOCK_STREAM)\n",
    "\n",
    "    serv.bind(ADDR)\n",
    "    serv.listen(5)\n",
    "\n",
    "    print ('listening ...')\n",
    "\n",
    "    while True:\n",
    "        conn, addr = serv.accept()\n",
    "        print('client connected ... ', addr)\n",
    "        myfile = open('testfile.mp4', 'w')\n",
    "\n",
    "        while True:\n",
    "            data = conn.recv(BUFSIZE)\n",
    "            if not data: break\n",
    "            myfile.write(data)\n",
    "            print ('writing file ....')\n",
    "        \n",
    "        myfile.close()\n",
    "        print ('finished writing file')\n",
    "        conn.close()\n",
    "        print ('client disconnected')\n",
    "        break\n",
    "\n",
    "    #os.system('python2 play_video.py')\n",
    "\n",
    "    cap = cv2.VideoCapture('testfile.mp4')\n",
    "    # Check if camera opened successfully\n",
    "    if (cap.isOpened()== False): \n",
    "        print(\"Error opening video stream or file\")\n",
    " \n",
    "    # Read until video is completed\n",
    "    while(cap.isOpened()):\n",
    "    # Capture frame-by-frame\n",
    "        ret, frame = cap.read()\n",
    "        if ret == True:\n",
    "            # Display the resulting frame\n",
    "            cv2.imshow('Frame',frame)\n",
    " \n",
    "        # Press Q on keyboard to  exit\n",
    "        if cv2.waitKey(25) & 0xFF == ord('q'):\n",
    "            break\n",
    " \n",
    "        # Break the loop\n",
    "    \n",
    "    \n",
    "    else: \n",
    "        break\n",
    " \n",
    "    # When everything done, release the video capture object\n",
    "    cap.release()\n",
    " \n",
    "    # Closes all the frames\n",
    "    cv2.destroyAllWindows()\n",
    "\n",
    "while(1):\n",
    "    get_stream()\n",
    "    \n"
   ]
  },
  {
   "cell_type": "code",
   "execution_count": null,
   "metadata": {},
   "outputs": [],
   "source": []
  }
 ],
 "metadata": {
  "kernelspec": {
   "display_name": "Python 2",
   "language": "python",
   "name": "python2"
  },
  "language_info": {
   "codemirror_mode": {
    "name": "ipython",
    "version": 2
   },
   "file_extension": ".py",
   "mimetype": "text/x-python",
   "name": "python",
   "nbconvert_exporter": "python",
   "pygments_lexer": "ipython2",
   "version": "2.7.12"
  }
 },
 "nbformat": 4,
 "nbformat_minor": 2
}
