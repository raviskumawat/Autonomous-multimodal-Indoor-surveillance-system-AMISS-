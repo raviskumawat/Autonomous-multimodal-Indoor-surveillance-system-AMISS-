{
 "cells": [
  {
   "cell_type": "code",
   "execution_count": null,
   "metadata": {},
   "outputs": [],
   "source": [
    "import socket\n",
    "import sys\n",
    "HOST = '192.168.43.153 ' #this is your localhost\n",
    "PORT = 8888\n",
    " \n",
    "s = socket.socket(socket.AF_INET, socket.SOCK_STREAM)\n",
    "#socket.socket: must use to create a socket.\n",
    "#socket.AF_INET: Address Format, Internet = IP Addresses.\n",
    "#socket.SOCK_STREAM: two-way, connection-based byte streams.\n",
    "print 'socket created'\n",
    " \n",
    "#Bind socket to Host and Port\n",
    "try:\n",
    "    s.bind((HOST, PORT))\n",
    "except socket.error as err:\n",
    "    print 'Bind Failed, Error Code: ' + str(err[0]) + ', Message: ' + err[1]\n",
    "    sys.exit()\n",
    " \n",
    "print 'Socket Bind Success!'\n",
    " \n",
    " \n",
    "#listen(): This method sets up and start TCP listener.\n",
    "s.listen(10)\n",
    "print 'Socket is now listening'\n",
    " \n",
    " \n",
    "while 1:\n",
    "    conn, addr = s.accept()\n",
    "    print 'Connect with ' + addr[0] + ':' + str(addr[1])\n",
    "    buf = conn.recv(64)\n",
    "    print buf\n",
    "s.close()"
   ]
  },
  {
   "cell_type": "code",
   "execution_count": null,
   "metadata": {},
   "outputs": [],
   "source": []
  },
  {
   "cell_type": "code",
   "execution_count": null,
   "metadata": {},
   "outputs": [],
   "source": []
  }
 ],
 "metadata": {
  "kernelspec": {
   "display_name": "Python 2",
   "language": "python",
   "name": "python2"
  },
  "language_info": {
   "codemirror_mode": {
    "name": "ipython",
    "version": 2
   },
   "file_extension": ".py",
   "mimetype": "text/x-python",
   "name": "python",
   "nbconvert_exporter": "python",
   "pygments_lexer": "ipython2",
   "version": "2.7.12"
  }
 },
 "nbformat": 4,
 "nbformat_minor": 2
}
