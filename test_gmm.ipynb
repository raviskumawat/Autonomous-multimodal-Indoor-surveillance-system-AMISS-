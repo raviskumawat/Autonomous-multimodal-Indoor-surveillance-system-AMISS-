{
 "cells": [
  {
   "cell_type": "code",
   "execution_count": 14,
   "metadata": {},
   "outputs": [],
   "source": [
    "#test_intrusion.py\n",
    "import os\n",
    "import pickle as cPickle\n",
    "import numpy as np\n",
    "from scipy.io.wavfile import read\n",
    "import python_speech_features as mfcc\n",
    "from sklearn import preprocessing\n",
    "import warnings\n",
    "warnings.filterwarnings(\"ignore\")\n",
    "def get_MFCC(sr,audio):\n",
    "    features = mfcc.mfcc(audio,sr, 0.020, 0.01, 15,appendEnergy = False)\n",
    "    feat     = np.asarray(())\n",
    "    for i in range(features.shape[0]):\n",
    "        temp = features[i,:]\n",
    "        if np.isnan(np.min(temp)):\n",
    "            continue\n",
    "        else:\n",
    "            if feat.size == 0:\n",
    "                feat = temp\n",
    "            else:\n",
    "                feat = np.vstack((feat, temp))\n",
    "    features = feat;\n",
    "    features = preprocessing.scale(features)\n",
    "    return features\n",
    "\n",
    "#path to test data\n",
    "sourcepath = \"\"   \n",
    "#path to saved models\n",
    "modelpath  = \"\"     \n",
    "\n",
    "#gmm_files = [os.path.join(modelpath,fname) for fname in os.listdir(modelpath) if fname.endswith('.gmm')]\n",
    "gmm_files=[fname for fname in os.listdir() if fname.endswith('.gmm')]\n",
    "\n",
    "models    = [cPickle.load(open(fname,'rb')) for fname in gmm_files]\n",
    "model_name   = [fname.split(\".gmm\")[0] for fname \n",
    "              in gmm_files]\n",
    "#files     = [os.path.join(sourcepath,f) for f in os.listdir(sourcepath) \n",
    "#             if f.endswith(\".wav\")] \n"
   ]
  },
  {
   "cell_type": "code",
   "execution_count": 15,
   "metadata": {},
   "outputs": [
    {
     "data": {
      "text/plain": [
       "['intrusion', 'non-intrusion']"
      ]
     },
     "execution_count": 15,
     "metadata": {},
     "output_type": "execute_result"
    }
   ],
   "source": [
    "model_name"
   ]
  },
  {
   "cell_type": "code",
   "execution_count": 18,
   "metadata": {},
   "outputs": [
    {
     "name": "stderr",
     "output_type": "stream",
     "text": [
      "WARNING:root:frame length (960) is greater than FFT size (512), frame will be truncated. Increase NFFT to avoid.\n"
     ]
    },
    {
     "name": "stdout",
     "output_type": "stream",
     "text": [
      "test.wav\n",
      "\tdetected as -  non-intrusion \n",
      "\tscores:  -12307.2535988 ,male  -11232.0398762 \n",
      "\n"
     ]
    }
   ],
   "source": [
    "\n",
    "files=['test.wav']\n",
    "\n",
    "for f in files:\n",
    "    print(f)\n",
    "    sr, audio  = read(f)\n",
    "    features   = get_MFCC(sr,audio)\n",
    "    scores     = None\n",
    "    log_likelihood = np.zeros(len(models)) \n",
    "    \n",
    "    \n",
    "    for i in range(len(models)):\n",
    "        gmm    = models[i]         #checking with each model one by one\n",
    "        scores = np.array(gmm.score(features))\n",
    "        log_likelihood[i] = scores.sum()\n",
    "    winner = np.argmax(log_likelihood)\n",
    "    print(\"\\tdetected as - \", model_name[winner],\"\\n\\tscores: \",log_likelihood[0],\",male \", log_likelihood[1],\"\\n\")"
   ]
  },
  {
   "cell_type": "code",
   "execution_count": null,
   "metadata": {},
   "outputs": [],
   "source": []
  }
 ],
 "metadata": {
  "kernelspec": {
   "display_name": "Python 3",
   "language": "python",
   "name": "python3"
  },
  "language_info": {
   "codemirror_mode": {
    "name": "ipython",
    "version": 3
   },
   "file_extension": ".py",
   "mimetype": "text/x-python",
   "name": "python",
   "nbconvert_exporter": "python",
   "pygments_lexer": "ipython3",
   "version": "3.5.2"
  }
 },
 "nbformat": 4,
 "nbformat_minor": 2
}
